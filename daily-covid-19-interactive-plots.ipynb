{
 "cells": [
  {
   "cell_type": "markdown",
   "metadata": {
    "papermill": {
     "duration": 0.036652,
     "end_time": "2021-01-23T05:43:27.157921",
     "exception": false,
     "start_time": "2021-01-23T05:43:27.121269",
     "status": "completed"
    },
    "tags": []
   },
   "source": [
    "<h1 class=\"alert alert-block alert-info\" style=\"text-align:center; font-size:30px\">Daily COVID-19 Interactive Plots</h1>\n",
    "\n",
    "<h1> What is the COVID-19/Coronavirus? </h1>\n",
    "\n",
    "* According to the CDC, \"Coronavirus disease (COVID-19) is an infectious disease caused by a newly discovered coronavirus. Most people infected with the COVID-19 virus will experience mild to moderate respiratory illness and recover without requiring special treatment.  Older people, and those with underlying medical problems like cardiovascular disease, diabetes, chronic respiratory disease, and cancer are more likely to develop serious illness.\"\n",
    "* Continuing, \"The best way to prevent and slow down transmission is to be well informed about the COVID-19 virus, the disease it causes and how it spreads. Protect yourself and others from infection by washing your hands or using an alcohol based rub frequently and not touching your face.\"\n",
    "* Stay informed about COVID-19. Practice social distancing and healthy practices (washing hands). Educate your friends and family on the dangers of COVID-19. \n",
    "* Yes, there's currently a vaccine out, but the vaccine will take quite a while to distribute to everyone. Thus, I encourage everyone reading to be patient about COVID so we can unite together and minimize the catastrophic damage the coronavirus has inflicted.\n",
    "\n",
    "<h1> Aims of this Project </h1>\n",
    "\n",
    "* This project aims to show COVID-19 data in a **robust** manner through **easy-to-digest** visualizations, so you can stay aware of the current state of COVID-19 at your fingertips.\n",
    "* This notebook shows the state of the coronavirus for the **previous** day. It does not look at past/moving trends, like <a href=\"https://www.kaggle.com/therealcyberlord/coronavirus-covid-19-visualization-prediction\"> this COVID-19 notebook</a>, but instead visualizes what happened with COVID yesterday.\n",
    "* To obtain the real-time COVID-19 data, I utilize a small web scraping script and the <a href=\"https://www.worldometers.info/coronavirus/\"> worldometers website</a>. A distinctive advantage of doing so is that the data used in this notebook does **not** have to be updated extraneously; instead, the dataset is crated right here in this notebook.\n",
    "* This project is very Work in Progress, so if anyone has suggestions or even would like to **code visualizations that are particularly meaningful**, please share them with me so I can improve and/or add new visualizations to this notebook. Feel free to also fork this notebook to play around with the data or just to learn something new.\n",
    "\n",
    "For more information on COVID-19, please check out this <a href=\"https://www.who.int/news-room/q-a-detail/coronavirus-disease-covid-19\"> World Health Organization FAQ</a>. It is a fantastic resource to educate yourself.\n",
    "\n",
    "<p style=\"font-size: 20px\"> <b> I will be running this notebook every day</b> until we truly \"flatten the curve\". </p>"
   ]
  },
  {
   "cell_type": "markdown",
   "metadata": {
    "papermill": {
     "duration": 0.033939,
     "end_time": "2021-01-23T05:43:27.226476",
     "exception": false,
     "start_time": "2021-01-23T05:43:27.192537",
     "status": "completed"
    },
    "tags": []
   },
   "source": [
    "<h2> Table of Contents </h2>\n",
    "\n",
    "<ol style=\"font-size: 16px\">\n",
    "    <li> <a href=\"https://www.kaggle.com/ironicninja/covid-19-every-day/notebook#gather\">Gathering the Data</a> </li>\n",
    "    <li> <a href=\"https://www.kaggle.com/ironicninja/covid-19-every-day/notebook#general\">General Visualizations </a> </li>\n",
    "    <li> <a href=\"https://www.kaggle.com/ironicninja/covid-19-every-day/notebook#continent\">By Continent </a> </li>\n",
    "    <li> <a href=\"https://www.kaggle.com/ironicninja/covid-19-every-day/notebook#countries\"> By Country </a> </li>\n",
    "</ol>\n",
    "\n",
    "<h2> Starred Visualiztions </h2>\n",
    "<ol style=\"font-size: 16px\">\n",
    "    <ul> <a href=\"https://www.kaggle.com/ironicninja/covid-19-every-day/notebook#country-search\">Interactive Search for Stats by Your Country </a> </ul>\n",
    "<ol>"
   ]
  },
  {
   "cell_type": "markdown",
   "metadata": {
    "papermill": {
     "duration": 0.034434,
     "end_time": "2021-01-23T05:43:27.295274",
     "exception": false,
     "start_time": "2021-01-23T05:43:27.260840",
     "status": "completed"
    },
    "tags": []
   },
   "source": [
    "# TL;DR, why should I care?"
   ]
  },
  {
   "cell_type": "code",
   "execution_count": null,
   "metadata": {
    "_kg_hide-input": true,
    "_kg_hide-output": true,
    "execution": {
     "iopub.execute_input": "2021-01-23T05:43:27.372152Z",
     "iopub.status.busy": "2021-01-23T05:43:27.371461Z",
     "iopub.status.idle": "2021-01-23T05:43:31.333327Z",
     "shell.execute_reply": "2021-01-23T05:43:31.332648Z"
    },
    "papermill": {
     "duration": 4.003587,
     "end_time": "2021-01-23T05:43:31.333443",
     "exception": false,
     "start_time": "2021-01-23T05:43:27.329856",
     "status": "completed"
    },
    "tags": []
   },
   "outputs": [],
   "source": [
    "from bs4 import BeautifulSoup as soup\n",
    "from urllib.request import Request, urlopen\n",
    "from datetime import date, datetime\n",
    "fname = 'https://www.worldometers.info/coronavirus/'\n",
    "req = Request(fname, headers={'User-Agent': 'Mozilla/5.0'})\n",
    "webpage = urlopen(req)\n",
    "page_soup = soup(webpage, \"html.parser\")"
   ]
  },
  {
   "cell_type": "code",
   "execution_count": null,
   "metadata": {
    "_kg_hide-input": true,
    "execution": {
     "iopub.execute_input": "2021-01-23T05:43:31.418124Z",
     "iopub.status.busy": "2021-01-23T05:43:31.412555Z",
     "iopub.status.idle": "2021-01-23T05:43:31.765742Z",
     "shell.execute_reply": "2021-01-23T05:43:31.765196Z"
    },
    "papermill": {
     "duration": 0.397576,
     "end_time": "2021-01-23T05:43:31.765891",
     "exception": false,
     "start_time": "2021-01-23T05:43:31.368315",
     "status": "completed"
    },
    "tags": []
   },
   "outputs": [],
   "source": [
    "today = datetime.now()\n",
    "now_str = \"%s %d, %d at %d:%s\" % (date.today().strftime(\"%b\"), today.day, today.year, today.hour, '0'+str(today.minute) if today.minute < 10 else str(today.minute))\n",
    "containers = page_soup.findAll(\"div\", {\"class\": \"maincounter-number\"})\n",
    "print(\"As of %s UTC, there have been %s total COVID-19 cases.\" % (now_str, containers[0].findAll(\"span\")[0].text.replace(' ', '')))"
   ]
  },
  {
   "cell_type": "markdown",
   "metadata": {
    "papermill": {
     "duration": 0.03497,
     "end_time": "2021-01-23T05:43:31.837169",
     "exception": false,
     "start_time": "2021-01-23T05:43:31.802199",
     "status": "completed"
    },
    "tags": []
   },
   "source": [
    "Hopefully now you think you should care. Crazy numbers, right? Before we get started, please <span style=\"font-size: 20px; color: green; font-weight: bold\"> leave an upvote </span> if you think this notebook is a valuable resource. I would love if this could become a community project, and upvoting helps with the publicity. Anyways, now, without further ado, let's get started!"
   ]
  },
  {
   "cell_type": "markdown",
   "metadata": {
    "papermill": {
     "duration": 0.03517,
     "end_time": "2021-01-23T05:43:31.908406",
     "exception": false,
     "start_time": "2021-01-23T05:43:31.873236",
     "status": "completed"
    },
    "tags": []
   },
   "source": [
    "<h1 class=\"alert alert-block alert-info\" style=\"text-align:center; font-size:24px\" id=\"gather\">Gathering the Data (Web Scraping)<a class=\"anchor-link\" href=\"https://www.kaggle.com/ironicninja/covid-19-every-day/notebook#gather\">¶</a></h1>"
   ]
  },
  {
   "cell_type": "markdown",
   "metadata": {
    "papermill": {
     "duration": 0.035866,
     "end_time": "2021-01-23T05:43:31.980354",
     "exception": false,
     "start_time": "2021-01-23T05:43:31.944488",
     "status": "completed"
    },
    "tags": []
   },
   "source": [
    "<h1> Essential Imports </h1>"
   ]
  },
  {
   "cell_type": "code",
   "execution_count": null,
   "metadata": {
    "_cell_guid": "b1076dfc-b9ad-4769-8c92-a6c4dae69d19",
    "_uuid": "8f2839f25d086af736a60e9eeb907d3b93b6e0e5",
    "execution": {
     "iopub.execute_input": "2021-01-23T05:43:32.059365Z",
     "iopub.status.busy": "2021-01-23T05:43:32.058662Z",
     "iopub.status.idle": "2021-01-23T05:43:33.556274Z",
     "shell.execute_reply": "2021-01-23T05:43:33.556848Z"
    },
    "papermill": {
     "duration": 1.540562,
     "end_time": "2021-01-23T05:43:33.557005",
     "exception": false,
     "start_time": "2021-01-23T05:43:32.016443",
     "status": "completed"
    },
    "tags": []
   },
   "outputs": [],
   "source": [
    "from bs4 import BeautifulSoup as soup\n",
    "from urllib.request import Request, urlopen\n",
    "import pandas as pd\n",
    "import numpy as np\n",
    "from datetime import date, datetime\n",
    "import matplotlib.pyplot as plt\n",
    "import gc #garbage collector\n",
    "import plotly.graph_objects as go\n",
    "import plotly.offline as py\n",
    "py.init_notebook_mode(connected=True)\n",
    "import seaborn as sns"
   ]
  },
  {
   "cell_type": "markdown",
   "metadata": {
    "papermill": {
     "duration": 0.035703,
     "end_time": "2021-01-23T05:43:33.628596",
     "exception": false,
     "start_time": "2021-01-23T05:43:33.592893",
     "status": "completed"
    },
    "tags": []
   },
   "source": [
    "<h1> Web Scraping Foundation </h1>"
   ]
  },
  {
   "cell_type": "code",
   "execution_count": null,
   "metadata": {
    "execution": {
     "iopub.execute_input": "2021-01-23T05:43:33.726439Z",
     "iopub.status.busy": "2021-01-23T05:43:33.725556Z",
     "iopub.status.idle": "2021-01-23T05:43:36.498167Z",
     "shell.execute_reply": "2021-01-23T05:43:36.497275Z"
    },
    "papermill": {
     "duration": 2.833322,
     "end_time": "2021-01-23T05:43:36.498309",
     "exception": false,
     "start_time": "2021-01-23T05:43:33.664987",
     "status": "completed"
    },
    "tags": []
   },
   "outputs": [],
   "source": [
    "fname = 'https://www.worldometers.info/coronavirus/#countries'\n",
    "req = Request(fname, headers={'User-Agent': 'Mozilla/5.0'})\n",
    "webpage = urlopen(req)\n",
    "page_soup = soup(webpage, \"html.parser\")\n",
    "today = datetime.now()\n",
    "today_str = \"%s %d, %d\" % (date.today().strftime(\"%b\"), today.day, today.year)\n",
    "yesterday_str = \"%s %d, %d\" % (date.today().strftime(\"%b\"), today.day-1, today.year)\n",
    "clean = True"
   ]
  },
  {
   "attachments": {
    "image.png": {
     "image/png": "[encoded data removed]"
    }
   },
   "cell_type": "markdown",
   "metadata": {
    "papermill": {
     "duration": 0.052013,
     "end_time": "2021-01-23T05:43:36.603536",
     "exception": false,
     "start_time": "2021-01-23T05:43:36.551523",
     "status": "completed"
    },
    "tags": []
   },
   "source": [
    "![image.png](attachment:image.png)\n",
    "> Screenshot of HTML for the website we are scraping."
   ]
  },
  {
   "cell_type": "code",
   "execution_count": null,
   "metadata": {
    "execution": {
     "iopub.execute_input": "2021-01-23T05:43:36.708542Z",
     "iopub.status.busy": "2021-01-23T05:43:36.707904Z",
     "iopub.status.idle": "2021-01-23T05:43:36.711534Z",
     "shell.execute_reply": "2021-01-23T05:43:36.712035Z"
    },
    "papermill": {
     "duration": 0.055851,
     "end_time": "2021-01-23T05:43:36.712187",
     "exception": false,
     "start_time": "2021-01-23T05:43:36.656336",
     "status": "completed"
    },
    "tags": []
   },
   "outputs": [],
   "source": [
    "print(\"This version of the notebook is being run on %s.\" % today_str)"
   ]
  },
  {
   "cell_type": "markdown",
   "metadata": {
    "papermill": {
     "duration": 0.037727,
     "end_time": "2021-01-23T05:43:36.787235",
     "exception": false,
     "start_time": "2021-01-23T05:43:36.749508",
     "status": "completed"
    },
    "tags": []
   },
   "source": [
    "<h1> Scraping Script </h1>\n",
    "\n",
    "If clean is set to <span style=\"color: blue\"> true</span>, then the numerical data will be converted from a string to a float. We drop China in our analysis because of some inconsistent positioning for China when scraping the data."
   ]
  },
  {
   "cell_type": "code",
   "execution_count": null,
   "metadata": {
    "execution": {
     "iopub.execute_input": "2021-01-23T05:43:36.877979Z",
     "iopub.status.busy": "2021-01-23T05:43:36.872715Z",
     "iopub.status.idle": "2021-01-23T05:43:37.312595Z",
     "shell.execute_reply": "2021-01-23T05:43:37.311740Z"
    },
    "papermill": {
     "duration": 0.487124,
     "end_time": "2021-01-23T05:43:37.312830",
     "exception": false,
     "start_time": "2021-01-23T05:43:36.825706",
     "status": "completed"
    },
    "tags": []
   },
   "outputs": [],
   "source": [
    "table = page_soup.findAll(\"table\", {\"id\": \"main_table_countries_yesterday\"})\n",
    "containers = table[0].findAll(\"tr\", {\"style\": \"\"})\n",
    "del containers[0]\n",
    "\n",
    "all_data = []\n",
    "for country in containers:\n",
    "    country_data = []\n",
    "    country_container = country.findAll(\"td\")\n",
    "    if country_container[1].text == 'China':\n",
    "        continue\n",
    "    for i in range(1, len(country_container)):\n",
    "        final_feature = country_container[i].text\n",
    "        if clean:\n",
    "            if i != 1 and i != len(country_container)-1:\n",
    "                final_feature = final_feature.replace(',', '')\n",
    "                if final_feature.find('+') != -1:\n",
    "                    final_feature = final_feature.replace('+', '')\n",
    "                    final_feature = float(final_feature)\n",
    "                elif final_feature.find('-') != -1:\n",
    "                    final_feature = final_feature.replace('-', '')\n",
    "                    final_feature = float(final_feature)*-1\n",
    "        if final_feature == 'N/A':\n",
    "            final_feature = 0\n",
    "        elif final_feature == '' or final_feature == ' ':\n",
    "            final_feature = -1 #None\n",
    "        country_data.append(final_feature)\n",
    "    all_data.append(country_data)"
   ]
  },
  {
   "cell_type": "code",
   "execution_count": null,
   "metadata": {
    "execution": {
     "iopub.execute_input": "2021-01-23T05:43:37.392763Z",
     "iopub.status.busy": "2021-01-23T05:43:37.392137Z",
     "iopub.status.idle": "2021-01-23T05:43:37.410050Z",
     "shell.execute_reply": "2021-01-23T05:43:37.410542Z"
    },
    "papermill": {
     "duration": 0.061452,
     "end_time": "2021-01-23T05:43:37.410690",
     "exception": false,
     "start_time": "2021-01-23T05:43:37.349238",
     "status": "completed"
    },
    "tags": []
   },
   "outputs": [],
   "source": [
    "df = pd.DataFrame(all_data)\n",
    "df = df.drop([15, 16, 17], axis=1) # Get rid of unnecessary data"
   ]
  },
  {
   "cell_type": "markdown",
   "metadata": {
    "papermill": {
     "duration": 0.035859,
     "end_time": "2021-01-23T05:43:37.482695",
     "exception": false,
     "start_time": "2021-01-23T05:43:37.446836",
     "status": "completed"
    },
    "tags": []
   },
   "source": [
    "On the <a href=\"https://www.worldometers.info/coronavirus/\"> worldometers website</a>, the category \"New Recovered\" doesn't appear; however, based on the numbers, we can interpolate a certain column of data to be that."
   ]
  },
  {
   "cell_type": "code",
   "execution_count": null,
   "metadata": {
    "execution": {
     "iopub.execute_input": "2021-01-23T05:43:37.564343Z",
     "iopub.status.busy": "2021-01-23T05:43:37.563621Z",
     "iopub.status.idle": "2021-01-23T05:43:37.566547Z",
     "shell.execute_reply": "2021-01-23T05:43:37.567100Z"
    },
    "papermill": {
     "duration": 0.048352,
     "end_time": "2021-01-23T05:43:37.567242",
     "exception": false,
     "start_time": "2021-01-23T05:43:37.518890",
     "status": "completed"
    },
    "tags": []
   },
   "outputs": [],
   "source": [
    "column_labels = [\"Country\", \"Total Cases\", \"New Cases\", \"Total Deaths\", \"New Deaths\", \"Total Recovered\", \"New Recovered\", \"Active Cases\", \"Serious/Critical\",\n",
    "                \"Tot Cases/1M\", \"Deaths/1M\", \"Total Tests\", \"Tests/1M\", \"Population\", \"Continent\"]\n",
    "df.columns = column_labels"
   ]
  },
  {
   "cell_type": "markdown",
   "metadata": {
    "papermill": {
     "duration": 0.035991,
     "end_time": "2021-01-23T05:43:37.640176",
     "exception": false,
     "start_time": "2021-01-23T05:43:37.604185",
     "status": "completed"
    },
    "tags": []
   },
   "source": [
    "<h1> What Countries are not present in the Analysis? </h1>\n",
    "\n",
    "For some reason, there are some countries that are not included when scraping the webpage."
   ]
  },
  {
   "cell_type": "code",
   "execution_count": null,
   "metadata": {
    "execution": {
     "iopub.execute_input": "2021-01-23T05:43:37.717346Z",
     "iopub.status.busy": "2021-01-23T05:43:37.716622Z",
     "iopub.status.idle": "2021-01-23T05:43:38.077096Z",
     "shell.execute_reply": "2021-01-23T05:43:38.076494Z"
    },
    "papermill": {
     "duration": 0.40078,
     "end_time": "2021-01-23T05:43:38.077220",
     "exception": false,
     "start_time": "2021-01-23T05:43:37.676440",
     "status": "completed"
    },
    "tags": []
   },
   "outputs": [],
   "source": [
    "country_labels = page_soup.findAll(\"a\", {\"class\": \"mt_a\"})\n",
    "c_label = []\n",
    "for country in country_labels:\n",
    "    c_label.append(country.text)\n",
    "c_label = set(c_label)\n",
    "\n",
    "not_counted = []\n",
    "sorted_countries = set(df['Country']) #Increase computational speed\n",
    "for country in c_label:\n",
    "    if country not in sorted_countries:\n",
    "        not_counted.append(country)"
   ]
  },
  {
   "cell_type": "code",
   "execution_count": null,
   "metadata": {
    "execution": {
     "iopub.execute_input": "2021-01-23T05:43:38.156120Z",
     "iopub.status.busy": "2021-01-23T05:43:38.155406Z",
     "iopub.status.idle": "2021-01-23T05:43:38.162707Z",
     "shell.execute_reply": "2021-01-23T05:43:38.160046Z"
    },
    "papermill": {
     "duration": 0.049024,
     "end_time": "2021-01-23T05:43:38.162969",
     "exception": false,
     "start_time": "2021-01-23T05:43:38.113945",
     "status": "completed"
    },
    "tags": []
   },
   "outputs": [],
   "source": [
    "print(not_counted + ['China'])"
   ]
  },
  {
   "cell_type": "markdown",
   "metadata": {
    "papermill": {
     "duration": 0.042171,
     "end_time": "2021-01-23T05:43:38.242914",
     "exception": false,
     "start_time": "2021-01-23T05:43:38.200743",
     "status": "completed"
    },
    "tags": []
   },
   "source": [
    "<h1> Final Processing </h1>\n",
    "\n",
    "Here, we will convert all the numerical data into np.int64 data type, and add some other features that may be particularly useful."
   ]
  },
  {
   "cell_type": "code",
   "execution_count": null,
   "metadata": {
    "execution": {
     "iopub.execute_input": "2021-01-23T05:43:38.315888Z",
     "iopub.status.busy": "2021-01-23T05:43:38.315433Z",
     "iopub.status.idle": "2021-01-23T05:43:38.336058Z",
     "shell.execute_reply": "2021-01-23T05:43:38.334585Z"
    },
    "papermill": {
     "duration": 0.053635,
     "end_time": "2021-01-23T05:43:38.336175",
     "exception": false,
     "start_time": "2021-01-23T05:43:38.282540",
     "status": "completed"
    },
    "tags": []
   },
   "outputs": [],
   "source": [
    "for label in df.columns:\n",
    "    if label != 'Country' and label != 'Continent':\n",
    "        df[label] = pd.to_numeric(df[label])"
   ]
  },
  {
   "cell_type": "code",
   "execution_count": null,
   "metadata": {
    "execution": {
     "iopub.execute_input": "2021-01-23T05:43:38.418913Z",
     "iopub.status.busy": "2021-01-23T05:43:38.418245Z",
     "iopub.status.idle": "2021-01-23T05:43:38.454278Z",
     "shell.execute_reply": "2021-01-23T05:43:38.453715Z"
    },
    "papermill": {
     "duration": 0.080249,
     "end_time": "2021-01-23T05:43:38.454407",
     "exception": false,
     "start_time": "2021-01-23T05:43:38.374158",
     "status": "completed"
    },
    "tags": []
   },
   "outputs": [],
   "source": [
    "df['%Inc Cases'] = df['New Cases']/df['Total Cases']*100\n",
    "df['%Inc Deaths'] = df['New Deaths']/df['Total Deaths']*100\n",
    "df['%Inc Recovered'] = df['New Recovered']/df['Total Recovered']*100"
   ]
  },
  {
   "cell_type": "code",
   "execution_count": null,
   "metadata": {
    "execution": {
     "iopub.execute_input": "2021-01-23T05:43:38.588611Z",
     "iopub.status.busy": "2021-01-23T05:43:38.583305Z",
     "iopub.status.idle": "2021-01-23T05:43:38.699318Z",
     "shell.execute_reply": "2021-01-23T05:43:38.698721Z"
    },
    "papermill": {
     "duration": 0.207009,
     "end_time": "2021-01-23T05:43:38.699443",
     "exception": false,
     "start_time": "2021-01-23T05:43:38.492434",
     "status": "completed"
    },
    "tags": []
   },
   "outputs": [],
   "source": [
    "pd.options.display.max_rows = None\n",
    "df"
   ]
  },
  {
   "cell_type": "markdown",
   "metadata": {
    "papermill": {
     "duration": 0.044255,
     "end_time": "2021-01-23T05:43:38.790498",
     "exception": false,
     "start_time": "2021-01-23T05:43:38.746243",
     "status": "completed"
    },
    "tags": []
   },
   "source": [
    "<h1> Export </h1>\n",
    "\n",
    "Feel free to use this data for your own purposes/visualizations. If you don't want to fork the notebook, you can download the csv file in the output section of this notebook."
   ]
  },
  {
   "cell_type": "code",
   "execution_count": null,
   "metadata": {
    "execution": {
     "iopub.execute_input": "2021-01-23T05:43:38.887162Z",
     "iopub.status.busy": "2021-01-23T05:43:38.886525Z",
     "iopub.status.idle": "2021-01-23T05:43:39.245194Z",
     "shell.execute_reply": "2021-01-23T05:43:39.245723Z"
    },
    "papermill": {
     "duration": 0.410875,
     "end_time": "2021-01-23T05:43:39.245908",
     "exception": false,
     "start_time": "2021-01-23T05:43:38.835033",
     "status": "completed"
    },
    "tags": []
   },
   "outputs": [],
   "source": [
    "EXPORT = True\n",
    "today = datetime.now()\n",
    "if EXPORT:\n",
    "    today = date.today()\n",
    "    df.to_csv(f'covid_stats_{today.year}_{today.month}_{today.day-1}')\n",
    "    print(\"Dataset is %.2f MB\" % (df.memory_usage(deep=True).sum()/1000000))"
   ]
  },
  {
   "cell_type": "markdown",
   "metadata": {
    "papermill": {
     "duration": 0.044323,
     "end_time": "2021-01-23T05:43:39.336008",
     "exception": false,
     "start_time": "2021-01-23T05:43:39.291685",
     "status": "completed"
    },
    "tags": []
   },
   "source": [
    "<h1 class=\"alert alert-block alert-info\" style=\"text-align:center; font-size:24px\" id=\"general\">General Visualizations<a class=\"anchor-link\" href=\"https://www.kaggle.com/ironicninja/covid-19-every-day/notebook#general\">¶</a></h1>"
   ]
  },
  {
   "cell_type": "code",
   "execution_count": null,
   "metadata": {
    "_kg_hide-input": true,
    "execution": {
     "iopub.execute_input": "2021-01-23T05:43:39.438890Z",
     "iopub.status.busy": "2021-01-23T05:43:39.432718Z",
     "iopub.status.idle": "2021-01-23T05:43:39.733007Z",
     "shell.execute_reply": "2021-01-23T05:43:39.733626Z"
    },
    "papermill": {
     "duration": 0.353741,
     "end_time": "2021-01-23T05:43:39.733768",
     "exception": false,
     "start_time": "2021-01-23T05:43:39.380027",
     "status": "completed"
    },
    "tags": []
   },
   "outputs": [],
   "source": [
    "cases_df = df[[\"Total Recovered\", \"Active Cases\", \"Total Deaths\"]].loc[0]\n",
    "pd.DataFrame(cases_df).T.plot.bar(stacked=True, figsize=(16, 12))\n",
    "plt.xticks(np.arange(0, 0, 1)) # No Ticks\n",
    "plt.title(f\"Total Number of Cases, Recoveries, and Deaths on {yesterday_str}\", fontsize=20)\n",
    "plt.legend(prop={\"size\": 12})\n",
    "\n",
    "prev = 0\n",
    "total = cases_df.sum()\n",
    "for num in cases_df.cumsum():\n",
    "    val = round((num-prev)/total*100, 3)\n",
    "    plt.annotate(f\"{val}% ({num-prev})\", (0, (num-prev)/2+prev), fontsize=14, ha='center')\n",
    "    prev = num\n",
    "plt.show()"
   ]
  },
  {
   "cell_type": "code",
   "execution_count": null,
   "metadata": {
    "_kg_hide-input": true,
    "execution": {
     "iopub.execute_input": "2021-01-23T05:43:39.852338Z",
     "iopub.status.busy": "2021-01-23T05:43:39.851656Z",
     "iopub.status.idle": "2021-01-23T05:43:40.029487Z",
     "shell.execute_reply": "2021-01-23T05:43:40.028906Z"
    },
    "papermill": {
     "duration": 0.24936,
     "end_time": "2021-01-23T05:43:40.029603",
     "exception": false,
     "start_time": "2021-01-23T05:43:39.780243",
     "status": "completed"
    },
    "tags": []
   },
   "outputs": [],
   "source": [
    "new_df = df[[\"New Cases\", \"New Recovered\", \"New Deaths\"]].loc[0]\n",
    "pd.DataFrame(new_df).T.plot.bar(stacked=True, figsize=(16, 12))\n",
    "plt.xticks(np.arange(0, 0, 1)) # No Ticks\n",
    "plt.title(f\"New Cases, Recoveries, and Deaths on {yesterday_str}\", fontsize=20)\n",
    "plt.legend(prop={\"size\": 12})\n",
    "\n",
    "prev = 0\n",
    "total = new_df.sum()\n",
    "for num in new_df.cumsum():\n",
    "    val = round((num-prev)/total*100, 3)\n",
    "    plt.annotate(f\"{val}% ({round(num-prev)})\", (0, (num-prev)/2+prev), fontsize=14, ha='center')\n",
    "    prev = num\n",
    "plt.show()"
   ]
  },
  {
   "cell_type": "code",
   "execution_count": null,
   "metadata": {
    "_kg_hide-input": true,
    "execution": {
     "iopub.execute_input": "2021-01-23T05:43:40.140764Z",
     "iopub.status.busy": "2021-01-23T05:43:40.135237Z",
     "iopub.status.idle": "2021-01-23T05:43:40.327094Z",
     "shell.execute_reply": "2021-01-23T05:43:40.327740Z"
    },
    "papermill": {
     "duration": 0.251534,
     "end_time": "2021-01-23T05:43:40.327927",
     "exception": false,
     "start_time": "2021-01-23T05:43:40.076393",
     "status": "completed"
    },
    "tags": []
   },
   "outputs": [],
   "source": [
    "pinc_df = df[[\"%Inc Cases\", \"%Inc Recovered\", \"%Inc Deaths\"]].loc[0]\n",
    "pd.DataFrame(pinc_df).T.plot.bar(figsize=(16, 12))\n",
    "plt.xticks(np.arange(0, 0, 1)) # No Ticks\n",
    "plt.title(f\"Percentage Increase in Cases, Recoveries, and Deaths on {yesterday_str}\", fontsize=20)\n",
    "plt.ylabel(\"Percentage\", fontsize=14)\n",
    "plt.legend(prop={\"size\": 12})\n",
    "plt.show()"
   ]
  },
  {
   "cell_type": "markdown",
   "metadata": {
    "papermill": {
     "duration": 0.049317,
     "end_time": "2021-01-23T05:43:40.425833",
     "exception": false,
     "start_time": "2021-01-23T05:43:40.376516",
     "status": "completed"
    },
    "tags": []
   },
   "source": [
    "<h1 class=\"alert alert-block alert-info\" style=\"text-align:center; font-size:24px\" id=\"continent\">By Continent<a class=\"anchor-link\" href=\"https://www.kaggle.com/ironicninja/covid-19-every-day/notebook#continent\">¶</a></h1>"
   ]
  },
  {
   "cell_type": "code",
   "execution_count": null,
   "metadata": {
    "_kg_hide-input": true,
    "execution": {
     "iopub.execute_input": "2021-01-23T05:43:40.536729Z",
     "iopub.status.busy": "2021-01-23T05:43:40.529531Z",
     "iopub.status.idle": "2021-01-23T05:43:40.558935Z",
     "shell.execute_reply": "2021-01-23T05:43:40.558292Z"
    },
    "papermill": {
     "duration": 0.084788,
     "end_time": "2021-01-23T05:43:40.559042",
     "exception": false,
     "start_time": "2021-01-23T05:43:40.474254",
     "status": "completed"
    },
    "tags": []
   },
   "outputs": [],
   "source": [
    "continent_df = df.groupby('Continent').sum().drop('All')\n",
    "continent_df = continent_df.reset_index()\n",
    "continent_df"
   ]
  },
  {
   "cell_type": "code",
   "execution_count": null,
   "metadata": {
    "_kg_hide-input": true,
    "execution": {
     "iopub.execute_input": "2021-01-23T05:43:40.665573Z",
     "iopub.status.busy": "2021-01-23T05:43:40.664915Z",
     "iopub.status.idle": "2021-01-23T05:43:40.669420Z",
     "shell.execute_reply": "2021-01-23T05:43:40.670195Z"
    },
    "papermill": {
     "duration": 0.061815,
     "end_time": "2021-01-23T05:43:40.670359",
     "exception": false,
     "start_time": "2021-01-23T05:43:40.608544",
     "status": "completed"
    },
    "tags": []
   },
   "outputs": [],
   "source": [
    "cases_vis_list = ['Total Cases', 'Active Cases', 'New Cases', 'Serious/Critical', 'Tot Cases/1M']\n",
    "deaths_vis_list = ['Total Deaths', 'New Deaths', 'Deaths/1M']\n",
    "recovered_vis_list = ['Total Recovered', 'New Recovered']\n",
    "tests_vis_list = ['Total Tests', 'Tests/1M']\n",
    "essentials = [['Total Cases', 'Active Cases', 'New Cases'], ['Total Deaths', 'New Deaths'], ['Total Recovered', 'New Recovered']]"
   ]
  },
  {
   "cell_type": "code",
   "execution_count": null,
   "metadata": {
    "execution": {
     "iopub.execute_input": "2021-01-23T05:43:40.830940Z",
     "iopub.status.busy": "2021-01-23T05:43:40.830056Z",
     "iopub.status.idle": "2021-01-23T05:43:40.834198Z",
     "shell.execute_reply": "2021-01-23T05:43:40.833436Z"
    },
    "papermill": {
     "duration": 0.090128,
     "end_time": "2021-01-23T05:43:40.834333",
     "exception": false,
     "start_time": "2021-01-23T05:43:40.744205",
     "status": "completed"
    },
    "tags": []
   },
   "outputs": [],
   "source": [
    "def continent_visualization(vis_list):\n",
    "    for label in vis_list:\n",
    "        pd.DataFrame(continent_df[label]).T.plot.bar(stacked=True, figsize=(16, 12))\n",
    "        plt.title(f\"{label} at the end of {yesterday_str}\", fontsize=24)\n",
    "        plt.xlabel(\"\")\n",
    "        plt.ylabel(f\"{label}\", fontsize=16)\n",
    "        plt.yticks(fontsize=16)\n",
    "        plt.legend(continent_df['Continent'])\n",
    "\n",
    "        prev = 0\n",
    "        total = continent_df[label].sum()\n",
    "        for num in continent_df[label].cumsum():\n",
    "            val = round((num-prev)/total*100, 3)\n",
    "            if val < 1:\n",
    "                continue\n",
    "            plt.annotate(f\"{val}% ({round(num-prev)})\", (0, (num-prev)/2+prev), fontsize=14, ha='center')\n",
    "            prev = num\n",
    "\n",
    "        plt.show()\n",
    "        gc.collect()"
   ]
  },
  {
   "cell_type": "code",
   "execution_count": null,
   "metadata": {
    "_kg_hide-input": true,
    "execution": {
     "iopub.execute_input": "2021-01-23T05:43:41.001715Z",
     "iopub.status.busy": "2021-01-23T05:43:40.992713Z",
     "iopub.status.idle": "2021-01-23T05:43:42.810644Z",
     "shell.execute_reply": "2021-01-23T05:43:42.809918Z"
    },
    "papermill": {
     "duration": 1.908343,
     "end_time": "2021-01-23T05:43:42.810759",
     "exception": false,
     "start_time": "2021-01-23T05:43:40.902416",
     "status": "completed"
    },
    "tags": []
   },
   "outputs": [],
   "source": [
    "continent_visualization(cases_vis_list)"
   ]
  },
  {
   "cell_type": "code",
   "execution_count": null,
   "metadata": {
    "_kg_hide-input": true,
    "execution": {
     "iopub.execute_input": "2021-01-23T05:43:42.948505Z",
     "iopub.status.busy": "2021-01-23T05:43:42.947867Z",
     "iopub.status.idle": "2021-01-23T05:43:43.995577Z",
     "shell.execute_reply": "2021-01-23T05:43:43.994962Z"
    },
    "papermill": {
     "duration": 1.126833,
     "end_time": "2021-01-23T05:43:43.995685",
     "exception": false,
     "start_time": "2021-01-23T05:43:42.868852",
     "status": "completed"
    },
    "tags": []
   },
   "outputs": [],
   "source": [
    "continent_visualization(deaths_vis_list)"
   ]
  },
  {
   "cell_type": "code",
   "execution_count": null,
   "metadata": {
    "_kg_hide-input": false,
    "execution": {
     "iopub.execute_input": "2021-01-23T05:43:44.177237Z",
     "iopub.status.busy": "2021-01-23T05:43:44.176361Z",
     "iopub.status.idle": "2021-01-23T05:43:44.866937Z",
     "shell.execute_reply": "2021-01-23T05:43:44.867578Z"
    },
    "papermill": {
     "duration": 0.78874,
     "end_time": "2021-01-23T05:43:44.867777",
     "exception": false,
     "start_time": "2021-01-23T05:43:44.079037",
     "status": "completed"
    },
    "tags": []
   },
   "outputs": [],
   "source": [
    "continent_visualization(tests_vis_list)"
   ]
  },
  {
   "cell_type": "code",
   "execution_count": null,
   "metadata": {
    "execution": {
     "iopub.execute_input": "2021-01-23T05:43:45.057469Z",
     "iopub.status.busy": "2021-01-23T05:43:45.056584Z",
     "iopub.status.idle": "2021-01-23T05:43:45.063708Z",
     "shell.execute_reply": "2021-01-23T05:43:45.064416Z"
    },
    "papermill": {
     "duration": 0.103959,
     "end_time": "2021-01-23T05:43:45.064609",
     "exception": false,
     "start_time": "2021-01-23T05:43:44.960650",
     "status": "completed"
    },
    "tags": []
   },
   "outputs": [],
   "source": [
    "def continent_visualization2(index, label):\n",
    "    continent_df.plot.bar(x=\"Continent\", y=essentials[index], stacked=True, figsize=(16, 12))\n",
    "    plt.title(f\"{label} at the end of {yesterday_str}\", fontsize=24)\n",
    "    plt.xlabel(\"\")\n",
    "    plt.ylabel(f\"{label}\", fontsize=16)\n",
    "    plt.yticks(fontsize=16)\n",
    "    plt.show()\n",
    "    gc.collect()"
   ]
  },
  {
   "cell_type": "code",
   "execution_count": null,
   "metadata": {
    "_kg_hide-input": false,
    "execution": {
     "iopub.execute_input": "2021-01-23T05:43:45.249517Z",
     "iopub.status.busy": "2021-01-23T05:43:45.248576Z",
     "iopub.status.idle": "2021-01-23T05:43:45.619093Z",
     "shell.execute_reply": "2021-01-23T05:43:45.619753Z"
    },
    "papermill": {
     "duration": 0.463091,
     "end_time": "2021-01-23T05:43:45.619949",
     "exception": false,
     "start_time": "2021-01-23T05:43:45.156858",
     "status": "completed"
    },
    "tags": []
   },
   "outputs": [],
   "source": [
    "continent_visualization2(0, \"Total Cases\")"
   ]
  },
  {
   "cell_type": "code",
   "execution_count": null,
   "metadata": {
    "_kg_hide-input": true,
    "execution": {
     "iopub.execute_input": "2021-01-23T05:43:45.816607Z",
     "iopub.status.busy": "2021-01-23T05:43:45.815426Z",
     "iopub.status.idle": "2021-01-23T05:43:46.170763Z",
     "shell.execute_reply": "2021-01-23T05:43:46.170033Z"
    },
    "papermill": {
     "duration": 0.455418,
     "end_time": "2021-01-23T05:43:46.170938",
     "exception": false,
     "start_time": "2021-01-23T05:43:45.715520",
     "status": "completed"
    },
    "tags": []
   },
   "outputs": [],
   "source": [
    "continent_visualization2(1, \"Total Deaths\")"
   ]
  },
  {
   "cell_type": "code",
   "execution_count": null,
   "metadata": {
    "_kg_hide-input": true,
    "execution": {
     "iopub.execute_input": "2021-01-23T05:43:46.369744Z",
     "iopub.status.busy": "2021-01-23T05:43:46.368956Z",
     "iopub.status.idle": "2021-01-23T05:43:46.719673Z",
     "shell.execute_reply": "2021-01-23T05:43:46.718736Z"
    },
    "papermill": {
     "duration": 0.451335,
     "end_time": "2021-01-23T05:43:46.719844",
     "exception": false,
     "start_time": "2021-01-23T05:43:46.268509",
     "status": "completed"
    },
    "tags": []
   },
   "outputs": [],
   "source": [
    "continent_visualization2(2, \"Total Recoveries\")"
   ]
  },
  {
   "cell_type": "markdown",
   "metadata": {
    "papermill": {
     "duration": 0.097302,
     "end_time": "2021-01-23T05:43:46.917852",
     "exception": false,
     "start_time": "2021-01-23T05:43:46.820550",
     "status": "completed"
    },
    "tags": []
   },
   "source": [
    "<h1 class=\"alert alert-block alert-info\" style=\"text-align:center; font-size:24px\" id=\"countries\">By Countries<a class=\"anchor-link\" href=\"https://www.kaggle.com/ironicninja/covid-19-every-day/notebook#countries\">¶</a></h1>"
   ]
  },
  {
   "cell_type": "code",
   "execution_count": null,
   "metadata": {
    "_kg_hide-input": true,
    "execution": {
     "iopub.execute_input": "2021-01-23T05:43:47.122176Z",
     "iopub.status.busy": "2021-01-23T05:43:47.121306Z",
     "iopub.status.idle": "2021-01-23T05:43:47.129458Z",
     "shell.execute_reply": "2021-01-23T05:43:47.129967Z"
    },
    "papermill": {
     "duration": 0.113667,
     "end_time": "2021-01-23T05:43:47.130120",
     "exception": false,
     "start_time": "2021-01-23T05:43:47.016453",
     "status": "completed"
    },
    "tags": []
   },
   "outputs": [],
   "source": [
    "df = df.drop([len(df)-1])\n",
    "country_df = df.drop([0])"
   ]
  },
  {
   "cell_type": "code",
   "execution_count": null,
   "metadata": {
    "_kg_hide-input": true,
    "execution": {
     "iopub.execute_input": "2021-01-23T05:43:47.281721Z",
     "iopub.status.busy": "2021-01-23T05:43:47.281091Z",
     "iopub.status.idle": "2021-01-23T05:43:47.463051Z",
     "shell.execute_reply": "2021-01-23T05:43:47.463530Z"
    },
    "papermill": {
     "duration": 0.262991,
     "end_time": "2021-01-23T05:43:47.463665",
     "exception": false,
     "start_time": "2021-01-23T05:43:47.200674",
     "status": "completed"
    },
    "tags": []
   },
   "outputs": [],
   "source": [
    "country_l = country_df.columns[1:14]\n",
    "\n",
    "fig = go.Figure()\n",
    "c = 0\n",
    "for i in country_df.index:\n",
    "    if c<4:\n",
    "        fig.add_trace(go.Bar(name=country_df['Country'][i], x=country_l, y=country_df.loc[i][1:14]))\n",
    "    else:\n",
    "        break\n",
    "    c += 1\n",
    "    \n",
    "fig.update_layout(title={'text': '4 Countries with Most COVID Cases on %s' % yesterday_str, 'x': 0.5,\n",
    "                         'xanchor': 'center', 'font': {'size': 20}}, yaxis_title=\"Percentage\", yaxis_type=\"log\", xaxis_tickangle=-90)\n",
    "fig.show()"
   ]
  },
  {
   "cell_type": "code",
   "execution_count": null,
   "metadata": {
    "_kg_hide-input": true,
    "execution": {
     "iopub.execute_input": "2021-01-23T05:43:47.622714Z",
     "iopub.status.busy": "2021-01-23T05:43:47.622045Z",
     "iopub.status.idle": "2021-01-23T05:43:47.649893Z",
     "shell.execute_reply": "2021-01-23T05:43:47.650410Z"
    },
    "papermill": {
     "duration": 0.110028,
     "end_time": "2021-01-23T05:43:47.650551",
     "exception": false,
     "start_time": "2021-01-23T05:43:47.540523",
     "status": "completed"
    },
    "tags": []
   },
   "outputs": [],
   "source": [
    "inc_l = country_df.columns[15:]\n",
    "inc_df = country_df.sort_values(\"%Inc Cases\", ascending=False)\n",
    "fig = go.Figure()\n",
    "c = 0\n",
    "for i in inc_df.index:\n",
    "    if i > 50:\n",
    "        continue\n",
    "    if c < 4:\n",
    "        fig.add_trace(go.Bar(name=country_df['Country'][i], x=inc_l, y=inc_df.loc[i][15:]))\n",
    "    else:\n",
    "        break\n",
    "    c += 1\n",
    "    \n",
    "fig.update_layout(title={'text': '4 Countries with Highest Increase in COVID Cases on %s' % yesterday_str, 'x': 0.5,\n",
    "                         'xanchor': 'center', 'font': {'size': 20}}, yaxis_title=\"Percentage\", xaxis_tickangle=0)\n",
    "fig.show()"
   ]
  },
  {
   "cell_type": "code",
   "execution_count": null,
   "metadata": {
    "execution": {
     "iopub.execute_input": "2021-01-23T05:43:47.823257Z",
     "iopub.status.busy": "2021-01-23T05:43:47.822544Z",
     "iopub.status.idle": "2021-01-23T05:43:47.836766Z",
     "shell.execute_reply": "2021-01-23T05:43:47.837476Z"
    },
    "papermill": {
     "duration": 0.103697,
     "end_time": "2021-01-23T05:43:47.837665",
     "exception": false,
     "start_time": "2021-01-23T05:43:47.733968",
     "status": "completed"
    },
    "tags": []
   },
   "outputs": [],
   "source": [
    "country_labels = country_df.columns[1:14]\n",
    "\n",
    "def country_visualization(continent):\n",
    "    buttons_list = []\n",
    "    base_list = [False for i in range(len(country_df))]\n",
    "    for i in range(len(country_df)):\n",
    "        if country_df['Continent'].iloc[i] != continent:\n",
    "            continue\n",
    "        tmp_list = base_list.copy()\n",
    "        tmp_list[i] = True\n",
    "        buttons_list.append(dict(\n",
    "                    args=[{\"visible\": tmp_list}],\n",
    "                    label=country_df['Country'].iloc[i],\n",
    "                    method=\"update\"\n",
    "                ))\n",
    "\n",
    "\n",
    "    fig = go.Figure()\n",
    "    c = 0\n",
    "    for i in country_df.index:\n",
    "        if country_df['Continent'][i] != continent:\n",
    "            continue\n",
    "        fig.add_trace(go.Bar(name=country_df['Country'][i], x=country_labels, y=country_df.loc[i][1:14], visible=False if c != 0 else True))\n",
    "        c += 1\n",
    "\n",
    "    fig.update_layout(\n",
    "        updatemenus=[\n",
    "            dict(\n",
    "                buttons=buttons_list,\n",
    "                direction=\"down\",\n",
    "                pad={\"r\": 10, \"t\": 10},\n",
    "                showactive=True,\n",
    "                x=0.1,\n",
    "                xanchor=\"left\",\n",
    "                y=1.1,\n",
    "                yanchor=\"top\"\n",
    "            ),\n",
    "        ]\n",
    "    )\n",
    "\n",
    "    fig.update_layout(title={'text': '%s COVID-19 Cases Search on %s' % (continent, yesterday_str), 'x': 0.5,\n",
    "                         'xanchor': 'center', 'font': {'size': 20}}, yaxis_type=\"log\", xaxis_tickangle=-90)\n",
    "    fig.show()"
   ]
  },
  {
   "cell_type": "markdown",
   "metadata": {
    "papermill": {
     "duration": 0.08223,
     "end_time": "2021-01-23T05:43:48.004532",
     "exception": false,
     "start_time": "2021-01-23T05:43:47.922302",
     "status": "completed"
    },
    "tags": []
   },
   "source": [
    "<h1 id=\"country-search\">COVID-19 Cases Search</h1>"
   ]
  },
  {
   "cell_type": "code",
   "execution_count": null,
   "metadata": {
    "_kg_hide-input": true,
    "execution": {
     "iopub.execute_input": "2021-01-23T05:43:48.185312Z",
     "iopub.status.busy": "2021-01-23T05:43:48.184654Z",
     "iopub.status.idle": "2021-01-23T05:43:48.407020Z",
     "shell.execute_reply": "2021-01-23T05:43:48.407389Z"
    },
    "papermill": {
     "duration": 0.31779,
     "end_time": "2021-01-23T05:43:48.407501",
     "exception": false,
     "start_time": "2021-01-23T05:43:48.089711",
     "status": "completed"
    },
    "tags": []
   },
   "outputs": [],
   "source": [
    "country_visualization('Africa')"
   ]
  },
  {
   "cell_type": "code",
   "execution_count": null,
   "metadata": {
    "_kg_hide-input": true,
    "execution": {
     "iopub.execute_input": "2021-01-23T05:43:48.636880Z",
     "iopub.status.busy": "2021-01-23T05:43:48.636208Z",
     "iopub.status.idle": "2021-01-23T05:43:48.754119Z",
     "shell.execute_reply": "2021-01-23T05:43:48.754640Z"
    },
    "papermill": {
     "duration": 0.241965,
     "end_time": "2021-01-23T05:43:48.754803",
     "exception": false,
     "start_time": "2021-01-23T05:43:48.512838",
     "status": "completed"
    },
    "tags": []
   },
   "outputs": [],
   "source": [
    "country_visualization('Asia')"
   ]
  },
  {
   "cell_type": "code",
   "execution_count": null,
   "metadata": {
    "_kg_hide-input": true,
    "execution": {
     "iopub.execute_input": "2021-01-23T05:43:49.094265Z",
     "iopub.status.busy": "2021-01-23T05:43:49.088663Z",
     "iopub.status.idle": "2021-01-23T05:43:49.123083Z",
     "shell.execute_reply": "2021-01-23T05:43:49.123630Z"
    },
    "papermill": {
     "duration": 0.207325,
     "end_time": "2021-01-23T05:43:49.123766",
     "exception": false,
     "start_time": "2021-01-23T05:43:48.916441",
     "status": "completed"
    },
    "tags": []
   },
   "outputs": [],
   "source": [
    "country_visualization('Australia/Oceania')"
   ]
  },
  {
   "cell_type": "code",
   "execution_count": null,
   "metadata": {
    "_kg_hide-input": true,
    "execution": {
     "iopub.execute_input": "2021-01-23T05:43:49.609955Z",
     "iopub.status.busy": "2021-01-23T05:43:49.599916Z",
     "iopub.status.idle": "2021-01-23T05:43:49.739640Z",
     "shell.execute_reply": "2021-01-23T05:43:49.740346Z"
    },
    "papermill": {
     "duration": 0.426203,
     "end_time": "2021-01-23T05:43:49.740505",
     "exception": false,
     "start_time": "2021-01-23T05:43:49.314302",
     "status": "completed"
    },
    "tags": []
   },
   "outputs": [],
   "source": [
    "country_visualization('Europe')"
   ]
  },
  {
   "cell_type": "code",
   "execution_count": null,
   "metadata": {
    "_kg_hide-input": true,
    "execution": {
     "iopub.execute_input": "2021-01-23T05:43:50.441368Z",
     "iopub.status.busy": "2021-01-23T05:43:50.436061Z",
     "iopub.status.idle": "2021-01-23T05:43:50.540749Z",
     "shell.execute_reply": "2021-01-23T05:43:50.541316Z"
    },
    "papermill": {
     "duration": 0.525585,
     "end_time": "2021-01-23T05:43:50.541918",
     "exception": false,
     "start_time": "2021-01-23T05:43:50.016333",
     "status": "completed"
    },
    "tags": []
   },
   "outputs": [],
   "source": [
    "country_visualization('North America')"
   ]
  },
  {
   "cell_type": "code",
   "execution_count": null,
   "metadata": {
    "_kg_hide-input": true,
    "execution": {
     "iopub.execute_input": "2021-01-23T05:43:51.036204Z",
     "iopub.status.busy": "2021-01-23T05:43:51.030877Z",
     "iopub.status.idle": "2021-01-23T05:43:51.077063Z",
     "shell.execute_reply": "2021-01-23T05:43:51.076559Z"
    },
    "papermill": {
     "duration": 0.304336,
     "end_time": "2021-01-23T05:43:51.077147",
     "exception": false,
     "start_time": "2021-01-23T05:43:50.772811",
     "status": "completed"
    },
    "tags": []
   },
   "outputs": [],
   "source": [
    "country_visualization('South America')"
   ]
  },
  {
   "cell_type": "code",
   "execution_count": null,
   "metadata": {
    "_kg_hide-input": true,
    "execution": {
     "iopub.execute_input": "2021-01-23T05:43:51.586191Z",
     "iopub.status.busy": "2021-01-23T05:43:51.580843Z",
     "iopub.status.idle": "2021-01-23T05:43:51.700848Z",
     "shell.execute_reply": "2021-01-23T05:43:51.701237Z"
    },
    "papermill": {
     "duration": 0.379615,
     "end_time": "2021-01-23T05:43:51.701345",
     "exception": false,
     "start_time": "2021-01-23T05:43:51.321730",
     "status": "completed"
    },
    "tags": []
   },
   "outputs": [],
   "source": [
    "bar_list = []\n",
    "for i in country_df.index:\n",
    "    bar_list.append(go.Bar(name=country_df['Country'][i], y=[country_df['Total Cases'][i]]))\n",
    "    \n",
    "fig = go.Figure(data=bar_list)\n",
    "fig.update_layout(title={'text': 'Stacked Bar Chart of All Countries COVID-19 Cases on %s' % yesterday_str, 'x': 0.5,\n",
    "                         'xanchor': 'center', 'font': {'size': 20}}, barmode='stack', height=1200)\n",
    "fig.show()"
   ]
  },
  {
   "cell_type": "code",
   "execution_count": null,
   "metadata": {
    "_kg_hide-input": true,
    "execution": {
     "iopub.execute_input": "2021-01-23T05:43:52.092167Z",
     "iopub.status.busy": "2021-01-23T05:43:52.091672Z",
     "iopub.status.idle": "2021-01-23T05:43:52.155523Z",
     "shell.execute_reply": "2021-01-23T05:43:52.155037Z"
    },
    "papermill": {
     "duration": 0.261839,
     "end_time": "2021-01-23T05:43:52.155615",
     "exception": false,
     "start_time": "2021-01-23T05:43:51.893776",
     "status": "completed"
    },
    "tags": []
   },
   "outputs": [],
   "source": [
    "bar = go.Bar(x=country_df['Country'], y=country_df['Total Cases'], marker=dict(color=df['Total Cases'], colorscale='Reds', showscale=True))\n",
    "fig = go.Figure(data=[bar])\n",
    "fig.update_layout(title={'text': 'Number of COVID Cases by Country on %s, log scale' % yesterday_str, 'x': 0.5,\n",
    "                         'xanchor': 'center', 'font': {'size': 20}}, yaxis_type=\"log\", xaxis_tickangle=-90)"
   ]
  },
  {
   "cell_type": "markdown",
   "metadata": {
    "papermill": {
     "duration": 0.241799,
     "end_time": "2021-01-23T05:43:52.712153",
     "exception": false,
     "start_time": "2021-01-23T05:43:52.470354",
     "status": "completed"
    },
    "tags": []
   },
   "source": [
    "<h1 class=\"alert alert-block alert-info\" style=\"text-align:center; font-size:24px\"> Statistical Analysis </h1>\n",
    "\n",
    "This section is a WIP, I would appreciate any suggestions for this section."
   ]
  },
  {
   "cell_type": "markdown",
   "metadata": {
    "papermill": {
     "duration": 0.277077,
     "end_time": "2021-01-23T05:43:53.265453",
     "exception": false,
     "start_time": "2021-01-23T05:43:52.988376",
     "status": "completed"
    },
    "tags": []
   },
   "source": [
    "# Concluding Remarks\n",
    "\n",
    "If you've read down this far in the notebook, thank you so much. This notebook took quite a long time to make, but that's aside from the point - these visualizations are for the community, and I'd like this project to also be for the community. So please leave an upvote - it takes literally less than a second - so this notebook/project gains more traction & recognition.\n",
    "\n",
    "And, like I said earlier, if you have any suggestions or code for other visualizations, please let me know in the comments or in DMs. I know I'm not the greatest coder, so everything/anything is appreciated.\n",
    "\n",
    "Stay safe, stay healthy, educate yourself. Thanks!"
   ]
  }
 ],
 "metadata": {
  "kernelspec": {
   "display_name": "Python 3",
   "language": "python",
   "name": "python3"
  },
  "language_info": {
   "codemirror_mode": {
    "name": "ipython",
    "version": 3
   },
   "file_extension": ".py",
   "mimetype": "text/x-python",
   "name": "python",
   "nbconvert_exporter": "python",
   "pygments_lexer": "ipython3",
   "version": "3.8.5-final"
  },
  "papermill": {
   "duration": 32.189711,
   "end_time": "2021-01-23T05:43:53.626593",
   "environment_variables": {},
   "exception": null,
   "input_path": "__notebook__.ipynb",
   "output_path": "__notebook__.ipynb",
   "parameters": {},
   "start_time": "2021-01-23T05:43:21.436882",
   "version": "2.1.0"
  }
 },
 "nbformat": 4,
 "nbformat_minor": 4
}